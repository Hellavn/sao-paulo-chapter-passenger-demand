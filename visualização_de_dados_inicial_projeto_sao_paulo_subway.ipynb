{
  "nbformat": 4,
  "nbformat_minor": 0,
  "metadata": {
    "colab": {
      "provenance": [],
      "authorship_tag": "ABX9TyOeRKQ4Rg+a1hrtBJZGWDEQ",
      "include_colab_link": true
    },
    "kernelspec": {
      "name": "python3",
      "display_name": "Python 3"
    },
    "language_info": {
      "name": "python"
    }
  },
  "cells": [
    {
      "cell_type": "markdown",
      "metadata": {
        "id": "view-in-github",
        "colab_type": "text"
      },
      "source": [
        "<a href=\"https://colab.research.google.com/github/Hellavn/sao-paulo-chapter-passenger-demand/blob/main/visualiza%C3%A7%C3%A3o_de_dados_inicial_projeto_sao_paulo_subway.ipynb\" target=\"_parent\"><img src=\"https://colab.research.google.com/assets/colab-badge.svg\" alt=\"Open In Colab\"/></a>"
      ]
    },
    {
      "cell_type": "code",
      "execution_count": null,
      "metadata": {
        "id": "1XPq8xkEtsh5"
      },
      "outputs": [],
      "source": [
        "import pandas as pd\n",
        "import numpy as np\n",
        "import matplotlib.pyplot as plt\n",
        "from sklearn.decomposition import PCA\n",
        "from sklearn import preprocessing"
      ]
    },
    {
      "cell_type": "code",
      "source": [
        "from google.colab import drive\n",
        "drive.mount('/content/drive', force_remount=True)\n"
      ],
      "metadata": {
        "colab": {
          "base_uri": "https://localhost:8080/"
        },
        "id": "yY_pkaSR2XJ6",
        "outputId": "bdddf483-b633-412a-98ee-8ec906590259"
      },
      "execution_count": null,
      "outputs": [
        {
          "output_type": "stream",
          "name": "stdout",
          "text": [
            "Mounted at /content/drive\n"
          ]
        }
      ]
    },
    {
      "cell_type": "code",
      "source": [
        "#Setting up the file\n",
        "\n",
        "original_dataset='/content/drive/My Drive/projeto_sãopaulo_subway/Entrada de Passageiros por Linha - 2022_7.csv'\n",
        "\n",
        "#Extraction by station\n",
        "\n",
        "df_azul = pd.read_csv(original_dataset,\n",
        "                      encoding='latin_1',\n",
        "                      sep=';',\n",
        "                      thousands='.',\n",
        "                      skiprows=5,\n",
        "                      skipfooter=44,\n",
        "                      usecols=[0,1,2,3,4,5],\n",
        "                      engine='python')\n",
        "df_azul['station'] = 'azul'\n",
        "df_azul.rename(columns={'Mês':'month', 'Total':'total'}, inplace=True)\n",
        "\n",
        "\n",
        "df_verde = pd.read_csv(original_dataset,\n",
        "                       encoding='latin_1',\n",
        "                       sep=';',\n",
        "                       thousands='.',\n",
        "                       skiprows=5,\n",
        "                       skipfooter=44,\n",
        "                       usecols=[7,8,9,10,11,12],\n",
        "                       engine='python')\n",
        "df_verde['station'] = 'verde'\n",
        "df_verde.rename(columns={'Mês.1':'month', 'Total.1':'total', 'MDU.1':'MDU', 'MSA.1':'MSA', 'MDO.1':'MDO', 'MAX.1':'MAX'}, inplace=True)\n",
        "\n",
        "df_prata = pd.read_csv(original_dataset,\n",
        "                       encoding='latin_1',\n",
        "                       sep=';',\n",
        "                       thousands='.',\n",
        "                       skiprows=24,\n",
        "                       skipfooter=25,\n",
        "                       usecols=[7,8,9,10,11,12],\n",
        "                       engine='python')\n",
        "df_prata['station'] = 'prata'\n",
        "df_prata.rename(columns={'Mês.1':'month', 'Total.1':'total', 'MDU.1':'MDU', 'MSA.1':'MSA', 'MDO.1':'MDO', 'MAX.1':'MAX'}, inplace=True)\n",
        "\n",
        "df_vermelha = pd.read_csv(original_dataset,\n",
        "                       encoding='latin_1',\n",
        "                       sep=';',\n",
        "                       thousands='.',\n",
        "                       skiprows=24,\n",
        "                       skipfooter=25,\n",
        "                       usecols=[0,1,2,3,4,5],\n",
        "                       engine='python')\n",
        "df_vermelha['station'] = 'vermelha'\n",
        "df_vermelha.rename(columns={'Mês':'month', 'Total':'total'}, inplace=True)\n",
        "\n",
        "df = pd.concat([df_vermelha,df_azul,df_prata,df_verde],ignore_index=True)\n",
        "\n",
        "print(df)\n",
        "\n",
        "#\"MDU - Média dos Dias Úteis; MSA - Média dos Sábados; MDO - Média dos Domingos; MAX - Máxima Diária\""
      ],
      "metadata": {
        "colab": {
          "base_uri": "https://localhost:8080/"
        },
        "id": "95yHUDbpwgXe",
        "outputId": "4b6beb5a-0ad9-4563-953a-026df9c5e1f5"
      },
      "execution_count": null,
      "outputs": [
        {
          "output_type": "stream",
          "name": "stdout",
          "text": [
            "   month  total  MDU  MSA  MDO  MAX   station\n",
            "0   Jan*  16226  639  411  235  696  vermelha\n",
            "1   Fev*  17630  743  478  289  775  vermelha\n",
            "2   Mar*  21835  840  513  287  895  vermelha\n",
            "3   Abr*  20508  859  499  308  877  vermelha\n",
            "4   Mai*  22453  847  542  324  877  vermelha\n",
            "5   Jun*  20959  823  514  322  858  vermelha\n",
            "6   Jul*  20746  795  511  303  833  vermelha\n",
            "7   Ago*  22792  849  513  305  888  vermelha\n",
            "8   Set*  21793  865  534  290  910  vermelha\n",
            "9   Out*  22203  878  533  305  918  vermelha\n",
            "10  Nov*  21421  889  560  320  928  vermelha\n",
            "11  Dez*  21117  793  642  348  959  vermelha\n",
            "12  Jan*  13688  542  351  190  585      azul\n",
            "13  Fev*  14891  634  415  196  667      azul\n",
            "14  Mar*  18216  706  436  198  734      azul\n",
            "15  Abr*  17547  742  430  235  771      azul\n",
            "16  Mai*  19350  738  473  242  765      azul\n",
            "17  Jun*  17926  710  437  242  746      azul\n",
            "18  Jul*  18175  690  459  265  752      azul\n",
            "19  Ago*  19922  747  454  232  779      azul\n",
            "20  Set*  19046  761  466  237  796      azul\n",
            "21  Out*  19679  782  475  257  828      azul\n",
            "22  Nov*  18677  782  484  263  816      azul\n",
            "23  Dez*  18176  691  511  291  845      azul\n",
            "24  Jan*   1142   46   28   14   50     prata\n",
            "25  Fev*   1294   55   34   18   59     prata\n",
            "26  Mar*   1587   62   36   18   64     prata\n",
            "27  Abr*   1507   64   36   19   69     prata\n",
            "28  Mai*   1674   64   39   20   66     prata\n",
            "29  Jun*   1596   64   35   20   70     prata\n",
            "30  Jul*   1517   62   26   16   64     prata\n",
            "31  Ago*   1709   67   28   17   69     prata\n",
            "32  Set*   1661   68   34   20   74     prata\n",
            "33  Out*   1679   69   33   19   71     prata\n",
            "34  Nov*   1654   71   34   22   74     prata\n",
            "35  Dez*   1555   62   25   19   75     prata\n",
            "36  Jan*   7484  302  169  100  331     verde\n",
            "37  Fev*   8486  367  198  129  389     verde\n",
            "38  Mar*  10739  424  215  130  444     verde\n",
            "39  Abr*  10196  444  212  134  459     verde\n",
            "40  Mai*  11447  447  228  135  468     verde\n",
            "41  Jun*  10638  431  214  153  447     verde\n",
            "42  Jul*  10490  413  222  146  430     verde\n",
            "43  Ago*  12057  460  231  136  487     verde\n",
            "44  Set*  11553  470  235  135  490     verde\n",
            "45  Out*  11672  475  238  150  498     verde\n",
            "46  Nov*  11039  477  237  144  501     verde\n",
            "47  Dez*  10182  396  248  151  495     verde\n"
          ]
        }
      ]
    },
    {
      "cell_type": "code",
      "source": [
        "df.info()"
      ],
      "metadata": {
        "colab": {
          "base_uri": "https://localhost:8080/"
        },
        "id": "OwJAOAkqTEac",
        "outputId": "8b8f5364-0e24-4ae8-e07a-a3addf8f6dff"
      },
      "execution_count": null,
      "outputs": [
        {
          "output_type": "stream",
          "name": "stdout",
          "text": [
            "<class 'pandas.core.frame.DataFrame'>\n",
            "RangeIndex: 48 entries, 0 to 47\n",
            "Data columns (total 7 columns):\n",
            " #   Column   Non-Null Count  Dtype \n",
            "---  ------   --------------  ----- \n",
            " 0   month    48 non-null     object\n",
            " 1   total    48 non-null     int64 \n",
            " 2   MDU      48 non-null     int64 \n",
            " 3   MSA      48 non-null     int64 \n",
            " 4   MDO      48 non-null     int64 \n",
            " 5   MAX      48 non-null     int64 \n",
            " 6   station  48 non-null     object\n",
            "dtypes: int64(5), object(2)\n",
            "memory usage: 2.8+ KB\n"
          ]
        }
      ]
    },
    {
      "cell_type": "code",
      "source": [
        "# converting to CSV file\n",
        "#df.to_csv(\"saopaulo_subway_dadostratados.csv\")\n",
        "# Write the DataFrame to CSV file.\n",
        "with open('/content/drive/My Drive/projeto_sãopaulo_subway/saopaulo_subway_dadostratados.csv', 'w') as f:\n",
        "  df.to_csv(f)"
      ],
      "metadata": {
        "id": "cDN86NGuTNCP"
      },
      "execution_count": null,
      "outputs": []
    },
    {
      "cell_type": "code",
      "execution_count": null,
      "metadata": {
        "colab": {
          "base_uri": "https://localhost:8080/",
          "height": 300
        },
        "id": "qJx41BMzeRCI",
        "outputId": "7c261a92-51b0-49d0-e469-0ae6567e5399"
      },
      "outputs": [
        {
          "output_type": "execute_result",
          "data": {
            "text/plain": [
              "              total         MDU         MSA         MDO         MAX\n",
              "count     48.000000   48.000000   48.000000   48.000000   48.000000\n",
              "mean   12698.625000  504.270833  305.750000  173.937500  536.291667\n",
              "std     7676.199859  300.366141  197.935461  110.650765  318.612949\n",
              "min     1142.000000   46.000000   25.000000   14.000000   50.000000\n",
              "25%     6040.250000  244.250000  136.500000   80.500000  267.000000\n",
              "50%    12872.500000  509.500000  299.500000  171.500000  543.000000\n",
              "75%    19432.250000  766.250000  479.500000  270.500000  819.000000\n",
              "max    22792.000000  889.000000  642.000000  348.000000  959.000000"
            ],
            "text/html": [
              "\n",
              "  <div id=\"df-9798eb4b-c983-46e3-bf33-515e7d3fa58f\">\n",
              "    <div class=\"colab-df-container\">\n",
              "      <div>\n",
              "<style scoped>\n",
              "    .dataframe tbody tr th:only-of-type {\n",
              "        vertical-align: middle;\n",
              "    }\n",
              "\n",
              "    .dataframe tbody tr th {\n",
              "        vertical-align: top;\n",
              "    }\n",
              "\n",
              "    .dataframe thead th {\n",
              "        text-align: right;\n",
              "    }\n",
              "</style>\n",
              "<table border=\"1\" class=\"dataframe\">\n",
              "  <thead>\n",
              "    <tr style=\"text-align: right;\">\n",
              "      <th></th>\n",
              "      <th>total</th>\n",
              "      <th>MDU</th>\n",
              "      <th>MSA</th>\n",
              "      <th>MDO</th>\n",
              "      <th>MAX</th>\n",
              "    </tr>\n",
              "  </thead>\n",
              "  <tbody>\n",
              "    <tr>\n",
              "      <th>count</th>\n",
              "      <td>48.000000</td>\n",
              "      <td>48.000000</td>\n",
              "      <td>48.000000</td>\n",
              "      <td>48.000000</td>\n",
              "      <td>48.000000</td>\n",
              "    </tr>\n",
              "    <tr>\n",
              "      <th>mean</th>\n",
              "      <td>12698.625000</td>\n",
              "      <td>504.270833</td>\n",
              "      <td>305.750000</td>\n",
              "      <td>173.937500</td>\n",
              "      <td>536.291667</td>\n",
              "    </tr>\n",
              "    <tr>\n",
              "      <th>std</th>\n",
              "      <td>7676.199859</td>\n",
              "      <td>300.366141</td>\n",
              "      <td>197.935461</td>\n",
              "      <td>110.650765</td>\n",
              "      <td>318.612949</td>\n",
              "    </tr>\n",
              "    <tr>\n",
              "      <th>min</th>\n",
              "      <td>1142.000000</td>\n",
              "      <td>46.000000</td>\n",
              "      <td>25.000000</td>\n",
              "      <td>14.000000</td>\n",
              "      <td>50.000000</td>\n",
              "    </tr>\n",
              "    <tr>\n",
              "      <th>25%</th>\n",
              "      <td>6040.250000</td>\n",
              "      <td>244.250000</td>\n",
              "      <td>136.500000</td>\n",
              "      <td>80.500000</td>\n",
              "      <td>267.000000</td>\n",
              "    </tr>\n",
              "    <tr>\n",
              "      <th>50%</th>\n",
              "      <td>12872.500000</td>\n",
              "      <td>509.500000</td>\n",
              "      <td>299.500000</td>\n",
              "      <td>171.500000</td>\n",
              "      <td>543.000000</td>\n",
              "    </tr>\n",
              "    <tr>\n",
              "      <th>75%</th>\n",
              "      <td>19432.250000</td>\n",
              "      <td>766.250000</td>\n",
              "      <td>479.500000</td>\n",
              "      <td>270.500000</td>\n",
              "      <td>819.000000</td>\n",
              "    </tr>\n",
              "    <tr>\n",
              "      <th>max</th>\n",
              "      <td>22792.000000</td>\n",
              "      <td>889.000000</td>\n",
              "      <td>642.000000</td>\n",
              "      <td>348.000000</td>\n",
              "      <td>959.000000</td>\n",
              "    </tr>\n",
              "  </tbody>\n",
              "</table>\n",
              "</div>\n",
              "      <button class=\"colab-df-convert\" onclick=\"convertToInteractive('df-9798eb4b-c983-46e3-bf33-515e7d3fa58f')\"\n",
              "              title=\"Convert this dataframe to an interactive table.\"\n",
              "              style=\"display:none;\">\n",
              "        \n",
              "  <svg xmlns=\"http://www.w3.org/2000/svg\" height=\"24px\"viewBox=\"0 0 24 24\"\n",
              "       width=\"24px\">\n",
              "    <path d=\"M0 0h24v24H0V0z\" fill=\"none\"/>\n",
              "    <path d=\"M18.56 5.44l.94 2.06.94-2.06 2.06-.94-2.06-.94-.94-2.06-.94 2.06-2.06.94zm-11 1L8.5 8.5l.94-2.06 2.06-.94-2.06-.94L8.5 2.5l-.94 2.06-2.06.94zm10 10l.94 2.06.94-2.06 2.06-.94-2.06-.94-.94-2.06-.94 2.06-2.06.94z\"/><path d=\"M17.41 7.96l-1.37-1.37c-.4-.4-.92-.59-1.43-.59-.52 0-1.04.2-1.43.59L10.3 9.45l-7.72 7.72c-.78.78-.78 2.05 0 2.83L4 21.41c.39.39.9.59 1.41.59.51 0 1.02-.2 1.41-.59l7.78-7.78 2.81-2.81c.8-.78.8-2.07 0-2.86zM5.41 20L4 18.59l7.72-7.72 1.47 1.35L5.41 20z\"/>\n",
              "  </svg>\n",
              "      </button>\n",
              "      \n",
              "  <style>\n",
              "    .colab-df-container {\n",
              "      display:flex;\n",
              "      flex-wrap:wrap;\n",
              "      gap: 12px;\n",
              "    }\n",
              "\n",
              "    .colab-df-convert {\n",
              "      background-color: #E8F0FE;\n",
              "      border: none;\n",
              "      border-radius: 50%;\n",
              "      cursor: pointer;\n",
              "      display: none;\n",
              "      fill: #1967D2;\n",
              "      height: 32px;\n",
              "      padding: 0 0 0 0;\n",
              "      width: 32px;\n",
              "    }\n",
              "\n",
              "    .colab-df-convert:hover {\n",
              "      background-color: #E2EBFA;\n",
              "      box-shadow: 0px 1px 2px rgba(60, 64, 67, 0.3), 0px 1px 3px 1px rgba(60, 64, 67, 0.15);\n",
              "      fill: #174EA6;\n",
              "    }\n",
              "\n",
              "    [theme=dark] .colab-df-convert {\n",
              "      background-color: #3B4455;\n",
              "      fill: #D2E3FC;\n",
              "    }\n",
              "\n",
              "    [theme=dark] .colab-df-convert:hover {\n",
              "      background-color: #434B5C;\n",
              "      box-shadow: 0px 1px 3px 1px rgba(0, 0, 0, 0.15);\n",
              "      filter: drop-shadow(0px 1px 2px rgba(0, 0, 0, 0.3));\n",
              "      fill: #FFFFFF;\n",
              "    }\n",
              "  </style>\n",
              "\n",
              "      <script>\n",
              "        const buttonEl =\n",
              "          document.querySelector('#df-9798eb4b-c983-46e3-bf33-515e7d3fa58f button.colab-df-convert');\n",
              "        buttonEl.style.display =\n",
              "          google.colab.kernel.accessAllowed ? 'block' : 'none';\n",
              "\n",
              "        async function convertToInteractive(key) {\n",
              "          const element = document.querySelector('#df-9798eb4b-c983-46e3-bf33-515e7d3fa58f');\n",
              "          const dataTable =\n",
              "            await google.colab.kernel.invokeFunction('convertToInteractive',\n",
              "                                                     [key], {});\n",
              "          if (!dataTable) return;\n",
              "\n",
              "          const docLinkHtml = 'Like what you see? Visit the ' +\n",
              "            '<a target=\"_blank\" href=https://colab.research.google.com/notebooks/data_table.ipynb>data table notebook</a>'\n",
              "            + ' to learn more about interactive tables.';\n",
              "          element.innerHTML = '';\n",
              "          dataTable['output_type'] = 'display_data';\n",
              "          await google.colab.output.renderOutput(dataTable, element);\n",
              "          const docLink = document.createElement('div');\n",
              "          docLink.innerHTML = docLinkHtml;\n",
              "          element.appendChild(docLink);\n",
              "        }\n",
              "      </script>\n",
              "    </div>\n",
              "  </div>\n",
              "  "
            ]
          },
          "metadata": {},
          "execution_count": 19
        }
      ],
      "source": [
        "# Medidas estatísticas do DataFrame\n",
        "df.describe()"
      ]
    }
  ]
}